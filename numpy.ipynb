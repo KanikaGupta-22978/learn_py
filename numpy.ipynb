{
  "nbformat": 4,
  "nbformat_minor": 0,
  "metadata": {
    "colab": {
      "provenance": [],
      "authorship_tag": "ABX9TyNoH2QxQAS2YNQND8kOQ4e8",
      "include_colab_link": true
    },
    "kernelspec": {
      "name": "python3",
      "display_name": "Python 3"
    },
    "language_info": {
      "name": "python"
    }
  },
  "cells": [
    {
      "cell_type": "markdown",
      "metadata": {
        "id": "view-in-github",
        "colab_type": "text"
      },
      "source": [
        "<a href=\"https://colab.research.google.com/github/kanikaguptakk/learn_py/blob/main/numpy.ipynb\" target=\"_parent\"><img src=\"https://colab.research.google.com/assets/colab-badge.svg\" alt=\"Open In Colab\"/></a>"
      ]
    },
    {
      "cell_type": "code",
      "source": [
        "'''\n",
        "list can store only 1 D array(float,integer,string,boolean) but importing numpy array we can store multidimensional array\n",
        "'''\n",
        "import numpy as np\n",
        "a=np.array([3,4,5,6])\n",
        "print(a)\n",
        "\n",
        "b=np.array([[4,3,5,6],[5,6,7,8]])\n",
        "print(b)\n",
        "\n",
        "c=np.array([[3,4,6,7],[5,6,7,8],[5,6,7,8]])\n",
        "print(c)\n",
        "\n",
        "'''\n",
        "a is a numpy n-dimensional array\n",
        "\n",
        "'''\n",
        "# type(a)\n",
        "\n",
        "'''\n",
        "size=number of elements in that array\n",
        "'''\n",
        "# print(a.size)\n",
        "# print(b.size)\n",
        "# print(c.size)\n",
        "\n",
        "'''\n",
        "shape=number of rows and columns\n",
        "'''\n",
        "# print(a.shape)\n",
        "# print(b.shape)\n",
        "# print(c.shape)\n",
        "\n",
        "'''dtype=type of data present in the array\n",
        "'''\n",
        "# print(a.dtype)\n",
        "# print(b.dtype)\n",
        "# print(c.dtype)\n",
        "\n",
        "# d=np.array([[4.5,2.4,5,4],[1.0,5,6,7],[7,8,9,10]])\n",
        "# print(d.dtype)\n",
        "# print(d.transpose())\n",
        "\n",
        "'''\n",
        "np.empty((rows,cols),dtype) where (rows,cols) is tuple-to get an empty array of random data\n",
        "'''\n",
        "# p=np.empty((3,5),dtype=float)\n",
        "# print(p)\n",
        "# q=np.empty((2,3),dtype=int)\n",
        "# print(q)\n",
        "\n",
        "\n",
        "'''\n",
        "np.ones((rows,cols),dtype=float(bydefault))-to get an array consisting of only 1's (float data type)\n",
        "'''\n",
        "# g=np.ones((4,3))\n",
        "# print(g)\n",
        "# e=np.ones((4,5),dtype=int)\n",
        "# print(e)\n",
        "\n",
        "'''\n",
        "np.zeros((rows,cols),dtype=flaot(bydefault))-to get an array consisting of only o's(flaot data type)\n",
        "**zeros not zeroes**\n",
        "'''\n",
        "# t=np.zeros((4,5))\n",
        "# print(t)\n",
        "# f=np.zeros((6,4),dtype=int)\n",
        "# print(f)\n",
        "\n",
        "# k=np.zeros((4,5),dtype=bool)\n",
        "# print(k)\n",
        "# g=np.zeros((3,4),dtype=str)\n",
        "# print(g)\n",
        "# h=np.ones((5,6),dtype=bool)\n",
        "# print(h)\n",
        "'''\n",
        "np.arange(start,end,step)\n",
        "**arange not arrange**\n",
        "\n",
        "'''\n",
        "# r=np.arange(3,7,2)\n",
        "# print(r)\n",
        "t=np.arange(4,77,5)\n",
        "print(t)\n",
        "'''\n",
        "arr.reshape((rows,cols))-to convert into a matrix\n",
        "'''\n",
        "t=t.reshape((3,5))\n",
        "print(t)\n",
        "\n",
        "'''\n",
        "arr.flatten()-reverse process of reshape\n",
        "'''\n",
        "t=t.flatten()\n",
        "print(t)\n",
        "\n",
        "t=t.reshape((5,3))\n",
        "print(t)\n",
        "\n",
        "t=t.ravel()\n",
        "print(t)\n",
        "'''\n",
        "arr.ravel()\n",
        "ravel                                        vs  flatten\n",
        "returns only view of original array              returns copy of origianl array\n",
        "\n",
        "'''\n",
        "\n"
      ],
      "metadata": {
        "id": "jfqpnBNqb06s",
        "colab": {
          "base_uri": "https://localhost:8080/",
          "height": 348
        },
        "outputId": "52acd825-d509-431a-f3dc-41ad96cfb81f"
      },
      "execution_count": 36,
      "outputs": [
        {
          "output_type": "stream",
          "name": "stdout",
          "text": [
            "[3 4 5 6]\n",
            "[[4 3 5 6]\n",
            " [5 6 7 8]]\n",
            "[[3 4 6 7]\n",
            " [5 6 7 8]\n",
            " [5 6 7 8]]\n",
            "[ 4  9 14 19 24 29 34 39 44 49 54 59 64 69 74]\n",
            "[[ 4  9 14 19 24]\n",
            " [29 34 39 44 49]\n",
            " [54 59 64 69 74]]\n",
            "[ 4  9 14 19 24 29 34 39 44 49 54 59 64 69 74]\n",
            "[[ 4  9 14]\n",
            " [19 24 29]\n",
            " [34 39 44]\n",
            " [49 54 59]\n",
            " [64 69 74]]\n",
            "[ 4  9 14 19 24 29 34 39 44 49 54 59 64 69 74]\n"
          ]
        },
        {
          "output_type": "execute_result",
          "data": {
            "text/plain": [
              "'\\narr.ravel()\\nravel                                        vs  flatten\\nreturns only view of original array              returns copy of origianl array\\n\\n'"
            ],
            "application/vnd.google.colaboratory.intrinsic+json": {
              "type": "string"
            }
          },
          "metadata": {},
          "execution_count": 36
        }
      ]
    }
  ]
}