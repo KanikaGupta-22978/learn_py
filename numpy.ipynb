{
  "nbformat": 4,
  "nbformat_minor": 0,
  "metadata": {
    "colab": {
      "provenance": [],
      "authorship_tag": "ABX9TyOVbZ1XxiBrUcoeUZkp5YC/",
      "include_colab_link": true
    },
    "kernelspec": {
      "name": "python3",
      "display_name": "Python 3"
    },
    "language_info": {
      "name": "python"
    }
  },
  "cells": [
    {
      "cell_type": "markdown",
      "metadata": {
        "id": "view-in-github",
        "colab_type": "text"
      },
      "source": [
        "<a href=\"https://colab.research.google.com/github/kanikaguptakk/learn_py/blob/main/numpy.ipynb\" target=\"_parent\"><img src=\"https://colab.research.google.com/assets/colab-badge.svg\" alt=\"Open In Colab\"/></a>"
      ]
    },
    {
      "cell_type": "code",
      "source": [
        "'''\n",
        "list can store only 1 D array(float,integer,string,boolean) but importing numpy array we can store multidimensional array\n",
        "'''\n",
        "import numpy as np\n",
        "a=np.array([3,4,5,6])\n",
        "print(a)\n",
        "\n",
        "b=np.array([[4,3,5,6],[5,6,7,8]])\n",
        "print(b)\n",
        "\n",
        "c=np.array([[3,4,6,7],[5,6,7,8],[5,6,7,8]])\n",
        "print(c)\n",
        "\n",
        "'''\n",
        "a is a numpy n-dimensional array\n",
        "\n",
        "'''\n",
        "type(a)\n",
        "\n",
        "'''\n",
        "size=number of elements in that array\n",
        "'''\n",
        "print(a.size)\n",
        "print(b.size)\n",
        "print(c.size)\n",
        "\n",
        "'''\n",
        "shape=number of rows and columns\n",
        "'''\n",
        "print(a.shape)\n",
        "print(b.shape)\n",
        "print(c.shape)\n",
        "\n",
        "'''dtype=type of data present in the array\n",
        "'''\n",
        "print(a.dtype)\n",
        "print(b.dtype)\n",
        "print(c.dtype)\n",
        "\n",
        "d=np.array([[4.5,2.4,5,4],[1.0,5,6,7],[7,8,9,10]])\n",
        "print(d.dtype)\n",
        "print(d.transpose())\n",
        "\n",
        "'''\n",
        "np.empty((rows,cols),dtype)\n",
        "'''\n",
        "np.empty((3,6),dtype=float)\n",
        "np.empty((4,3),dtype=int)\n",
        "np.empty((5,4),dtype=bool)\n",
        "np.empty((3,4),dtype=str)"
      ],
      "metadata": {
        "id": "jfqpnBNqb06s",
        "colab": {
          "base_uri": "https://localhost:8080/"
        },
        "outputId": "50b004cb-d842-40b2-cb3c-8f51dbfa9424"
      },
      "execution_count": 18,
      "outputs": [
        {
          "output_type": "stream",
          "name": "stdout",
          "text": [
            "[3 4 5 6]\n",
            "[[4 3 5 6]\n",
            " [5 6 7 8]]\n",
            "[[3 4 6 7]\n",
            " [5 6 7 8]\n",
            " [5 6 7 8]]\n",
            "4\n",
            "8\n",
            "12\n",
            "(4,)\n",
            "(2, 4)\n",
            "(3, 4)\n",
            "int64\n",
            "int64\n",
            "int64\n",
            "float64\n",
            "[[ 4.5  1.   7. ]\n",
            " [ 2.4  5.   8. ]\n",
            " [ 5.   6.   9. ]\n",
            " [ 4.   7.  10. ]]\n"
          ]
        },
        {
          "output_type": "execute_result",
          "data": {
            "text/plain": [
              "array([['', '', '', ''],\n",
              "       ['', '', '', ''],\n",
              "       ['', '', '', '']], dtype='<U1')"
            ]
          },
          "metadata": {},
          "execution_count": 18
        }
      ]
    }
  ]
}