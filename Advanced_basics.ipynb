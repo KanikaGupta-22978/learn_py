{
  "nbformat": 4,
  "nbformat_minor": 0,
  "metadata": {
    "colab": {
      "provenance": [],
      "authorship_tag": "ABX9TyOiuutk5rlrB37aqq99YQVH",
      "include_colab_link": true
    },
    "kernelspec": {
      "name": "python3",
      "display_name": "Python 3"
    },
    "language_info": {
      "name": "python"
    }
  },
  "cells": [
    {
      "cell_type": "markdown",
      "metadata": {
        "id": "view-in-github",
        "colab_type": "text"
      },
      "source": [
        "<a href=\"https://colab.research.google.com/github/kanikaguptakk/learn_py/blob/main/Advanced_basics.ipynb\" target=\"_parent\"><img src=\"https://colab.research.google.com/assets/colab-badge.svg\" alt=\"Open In Colab\"/></a>"
      ]
    },
    {
      "cell_type": "code",
      "execution_count": null,
      "metadata": {
        "id": "Tutvy1_iu8jg"
      },
      "outputs": [],
      "source": [
        "\n",
        "# input-to directly get an input from user\n",
        "\n",
        "a=input(\"How r u\")\n",
        "print(a + \" \"+ \"tell me ...\")\n",
        "b=input(\"how old r u\")\n",
        "print(b + \" \" +\"ohh,is it !\")\n",
        "\n",
        "# data types--->>\n",
        "# int\n",
        "# flaot\n",
        "# str\n",
        "# bool\n",
        "# set\n",
        "# tuple\n",
        "# list\n",
        "# dict\n",
        "\n",
        "# Classes(custom data types)\n",
        "\n",
        "\n",
        "# Specailized data types(import from library)-we can directly use by Importing\n",
        "# -modules\n",
        "\n",
        "# none\n",
        "\n"
      ]
    },
    {
      "cell_type": "code",
      "source": [
        "a=input(\"sum nums\")\n",
        "print(a)\n",
        "print(type(a))\n",
        "print(type(4+5))\n",
        "\n",
        "print(3 ** 4)    # **-raise to the power of\n",
        "print(4 ** 3)\n",
        "print(3 // 4)    # //-simplifies to nearest integer of quatient\n",
        "print(4 // 3)\n",
        "print(4/3)       #quotient\n",
        "print(4%3)       #remainder\n",
        "\n"
      ],
      "metadata": {
        "id": "orz9wkpsvG8_"
      },
      "execution_count": null,
      "outputs": []
    },
    {
      "cell_type": "code",
      "source": [
        "print(bin(17))   #to convert int to binary\n",
        "print(int(\"10001\",10))    # we passed a string as an argument to the int() function and printed it.\n",
        "                          #to convert binary to int mentioning base n\n"
      ],
      "metadata": {
        "colab": {
          "base_uri": "https://localhost:8080/"
        },
        "id": "6SLbjcCPpdma",
        "outputId": "25057eb7-5918-4fd8-a40a-61624b7b4532"
      },
      "execution_count": null,
      "outputs": [
        {
          "output_type": "stream",
          "name": "stdout",
          "text": [
            "0b10001\n",
            "10001\n"
          ]
        }
      ]
    },
    {
      "cell_type": "code",
      "source": [
        "_Kanika_Gupta=30     #var name starting with _ are known as private var\n",
        "print(_Kanika_Gupta)"
      ],
      "metadata": {
        "colab": {
          "base_uri": "https://localhost:8080/"
        },
        "id": "ol8lgYzxqQa1",
        "outputId": "bb7d085a-c131-4698-f4f1-42b52fb38300"
      },
      "execution_count": null,
      "outputs": [
        {
          "output_type": "stream",
          "name": "stdout",
          "text": [
            "30\n"
          ]
        }
      ]
    },
    {
      "cell_type": "code",
      "source": [
        "p,q,r=2,3,4\n",
        "print(q)"
      ],
      "metadata": {
        "colab": {
          "base_uri": "https://localhost:8080/"
        },
        "id": "xImShyq6v3al",
        "outputId": "c81c2559-0f7d-4bae-f984-f0fe37c4ed72"
      },
      "execution_count": null,
      "outputs": [
        {
          "output_type": "stream",
          "name": "stdout",
          "text": [
            "3\n"
          ]
        }
      ]
    },
    {
      "cell_type": "code",
      "source": [
        "#Expression - a piece of code that produces a value\n",
        "#Statement- consist of expression and terms\n",
        "_Kanika_Gupta=45\n",
        "Mamta_Gupta=_Kanika_Gupta/4       #_Kanika_Gupta/4 (expression) and Mamta_Gupta=_Kanika_Gupta/4 (Statement)\n",
        "print(Mamta_Gupta)"
      ],
      "metadata": {
        "colab": {
          "base_uri": "https://localhost:8080/"
        },
        "id": "DM_hEARGxUYl",
        "outputId": "cc32896c-331f-40d4-ff4e-dcc594503d0e"
      },
      "execution_count": null,
      "outputs": [
        {
          "output_type": "stream",
          "name": "stdout",
          "text": [
            "11.25\n"
          ]
        }
      ]
    },
    {
      "cell_type": "code",
      "source": [
        "#Argumented assignment operator\n",
        "_Kanika_Gupta=8\n",
        "_Kanika_Gupta/=3\n",
        "print(_Kanika_Gupta)"
      ],
      "metadata": {
        "colab": {
          "base_uri": "https://localhost:8080/"
        },
        "id": "i6Ed-ssXzYy3",
        "outputId": "10b4e5e4-1d24-4ffa-c356-54e273267927"
      },
      "execution_count": null,
      "outputs": [
        {
          "output_type": "stream",
          "name": "stdout",
          "text": [
            "2.6666666666666665\n"
          ]
        }
      ]
    },
    {
      "cell_type": "code",
      "source": [
        "import pandas as pd\n",
        "import numpy as np\n",
        "import matplotlib.pyplot as plt\n",
        "import sklearn"
      ],
      "metadata": {
        "id": "eRJDnb1N-8ZS"
      },
      "execution_count": null,
      "outputs": []
    }
  ]
}