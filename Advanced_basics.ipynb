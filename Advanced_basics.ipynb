{
  "nbformat": 4,
  "nbformat_minor": 0,
  "metadata": {
    "colab": {
      "provenance": [],
      "authorship_tag": "ABX9TyOMdozASWK64x+E7R9oZ4Jq",
      "include_colab_link": true
    },
    "kernelspec": {
      "name": "python3",
      "display_name": "Python 3"
    },
    "language_info": {
      "name": "python"
    }
  },
  "cells": [
    {
      "cell_type": "markdown",
      "metadata": {
        "id": "view-in-github",
        "colab_type": "text"
      },
      "source": [
        "<a href=\"https://colab.research.google.com/github/kanikaguptakk/learn_py/blob/main/Advanced_basics.ipynb\" target=\"_parent\"><img src=\"https://colab.research.google.com/assets/colab-badge.svg\" alt=\"Open In Colab\"/></a>"
      ]
    },
    {
      "cell_type": "code",
      "execution_count": null,
      "metadata": {
        "id": "Tutvy1_iu8jg"
      },
      "outputs": [],
      "source": [
        "\n",
        "# input-to directly get an input from user\n",
        "\n",
        "# a=input(\"How r u\")\n",
        "# print(a + \" \"+ \"tell me ...\")\n",
        "# b=input(\"how old r u\")\n",
        "# print(b + \" \" +\"ohh,is it !\")\n",
        "\n",
        "# data types--->>\n",
        "# int\n",
        "# flaot\n",
        "# str\n",
        "# bool\n",
        "# set\n",
        "# tuple\n",
        "# list\n",
        "# dict\n",
        "\n",
        "# Classes(custom data types)\n",
        "\n",
        "\n",
        "# Specailized data types(import from library)-we can directly use by Importing\n",
        "# -modules\n",
        "\n",
        "# none\n",
        "\n"
      ]
    },
    {
      "cell_type": "code",
      "source": [
        "# a=input(\"sum nums\")\n",
        "# print(a)\n",
        "# print(type(a))\n",
        "# print(type(4+5))\n",
        "\n",
        "print(3 ** 4)    # **-raise to the power of\n",
        "print(4 ** 3)\n",
        "print(3 // 4)    # //-simplifies to nearest integer\n",
        "print(4 // 3)\n",
        "print(4/3) #quotient\n",
        "print(4%3) #remainder"
      ],
      "metadata": {
        "id": "orz9wkpsvG8_"
      },
      "execution_count": null,
      "outputs": []
    }
  ]
}